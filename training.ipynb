{
 "cells": [
  {
   "cell_type": "markdown",
   "metadata": {},
   "source": [
    "# Hand Gesture Recognition - by Talal and Visheshank\n",
    "\n",
    "This is our final project for CS5100: Foundations of Artificial Intelligence. Our topic is hand gesture recognition and its applications. For this project, we mainly utilized various different techniques\n",
    "\n",
    "\n",
    "First, lets import our libraries:"
   ]
  },
  {
   "cell_type": "code",
   "execution_count": 1,
   "metadata": {},
   "outputs": [],
   "source": [
    "import torch\n",
    "import torch.nn as nn\n",
    "import cv2\n",
    "import numpy as np\n",
    "import sklearn\n",
    "from sklearn import svm, metrics\n",
    "from sklearn.model_selection import train_test_split\n",
    "import skimage.io\n",
    "import skimage.color\n",
    "import pickle\n",
    "\n",
    "import matplotlib.pyplot as plt\n",
    "import os"
   ]
  },
  {
   "cell_type": "markdown",
   "source": [
    "## Importing Data\n",
    "For the project, we experimented with 2 different data sets. One was a simplistic hand model data set and the other one was a more realistic hand model data set. By simplistic and complex, we mean that the detail of the training and testing images were simplistic (low-res, similar to pixel art), and detailed (high-res, captured via a camera).\n",
    "\n",
    "For each one, we created a separate function to load its data."
   ],
   "metadata": {
    "collapsed": false
   }
  },
  {
   "cell_type": "code",
   "execution_count": 2,
   "outputs": [],
   "source": [
    "\n",
    "def import_simple_data(data_type):\n",
    "    if data_type == \"train\":\n",
    "        dir = \"data/Simple Hand Data/train/train/\"\n",
    "    else:\n",
    "        dir = \"data/Simple Hand Data/test/test/\"\n",
    "\n",
    "    x_data = []\n",
    "    y_data = []\n",
    "    for dir_name in os.listdir(dir):\n",
    "        curr_dir = dir + \"/\" + dir_name + \"/\"\n",
    "        for hand_image in os.listdir(curr_dir):\n",
    "            hand_image_location = curr_dir + hand_image\n",
    "            image = skimage.io.imread(hand_image_location, as_gray=True)\n",
    "            x_data.append(image)\n",
    "            y_data.append(dir_name)\n",
    "\n",
    "    x_data = np.array(x_data)\n",
    "    y_data = np.array(y_data)\n",
    "\n",
    "    return x_data, y_data\n",
    "\n",
    "\n",
    "def import_complex_data():\n",
    "    lookup = dict()\n",
    "    reverselookup = dict()\n",
    "    count = 0\n",
    "    for j in os.listdir('data/Complex Hand Data/leapGestRecog/00/'):\n",
    "        lookup[j] = count\n",
    "        reverselookup[count] = j\n",
    "        count = count + 1\n",
    "\n",
    "    x_data = []\n",
    "    y_data = []\n",
    "    IMG_SIZE = 150\n",
    "    datacount = 0\n",
    "    for i in range(0, 10):\n",
    "        for j in os.listdir('data/Complex Hand Data/leapGestRecog/0' + str(i) + '/'):\n",
    "            if not j.startswith('.'):\n",
    "                count = 0 # To tally images of a given gesture\n",
    "                for k in os.listdir('data/Complex Hand Data/leapGestRecog/0' +\n",
    "                                    str(i) + '/' + j + '/'):\n",
    "                    path = 'data/Complex Hand Data/leapGestRecog/0' + str(i) + '/' + j + '/' + k\n",
    "                    img = cv2.imread(path,cv2.IMREAD_GRAYSCALE)\n",
    "                    img = cv2.resize(img, (IMG_SIZE,IMG_SIZE))\n",
    "                    arr = np.array(img)\n",
    "                    x_data.append(arr)\n",
    "                    count = count + 1\n",
    "                y_values = np.full((count, 1), lookup[j])\n",
    "                y_data.append(y_values)\n",
    "                datacount = datacount + count\n",
    "    x_data = np.array(x_data, dtype = 'float32')\n",
    "    y_data = np.array(y_data)\n",
    "    y_data = y_data.reshape(datacount, 1) # Reshape to be the correct size\n",
    "\n",
    "    return x_data, y_data"
   ],
   "metadata": {
    "collapsed": false,
    "pycharm": {
     "name": "#%%\n"
    }
   }
  },
  {
   "cell_type": "markdown",
   "source": [
    "## Loading in our datasets\n",
    "Now, we'll load our datasets in this separate code cell in order to avoid reloading them. They are quite large data sets so its best to avoid loading them over and over again."
   ],
   "metadata": {
    "collapsed": false
   }
  },
  {
   "cell_type": "code",
   "execution_count": 3,
   "outputs": [
    {
     "name": "stdout",
     "output_type": "stream",
     "text": [
      "Loading in complex data...\n",
      "Loading in simple data...\n",
      "Data loading complete!\n"
     ]
    }
   ],
   "source": [
    "print(\"Loading in complex data...\")\n",
    "x_complex, y_complex = import_complex_data()\n",
    "\n",
    "print(\"Loading in simple data...\")\n",
    "X_train_simple, y_train_simple = import_simple_data(\"train\")\n",
    "X_test_simple, y_test_simple = import_simple_data(\"test\")\n",
    "\n",
    "print(\"Data loading complete!\")"
   ],
   "metadata": {
    "collapsed": false,
    "pycharm": {
     "name": "#%%\n"
    }
   }
  },
  {
   "cell_type": "markdown",
   "source": [
    "## Training\n",
    "Here we define a method to train a model based on the data type given. The input to the classify function could either be \"simple\" for the simple data or \"complex\" for the complex data. Its best to just use \"complex\"."
   ],
   "metadata": {
    "collapsed": false
   }
  },
  {
   "cell_type": "code",
   "execution_count": 4,
   "outputs": [
    {
     "name": "stdout",
     "output_type": "stream",
     "text": [
      "Fitting model...\n"
     ]
    },
    {
     "name": "stderr",
     "output_type": "stream",
     "text": [
      "<ipython-input-4-cb2553c0fce9>:39: DataConversionWarning: A column-vector y was passed when a 1d array was expected. Please change the shape of y to (n_samples,), for example using ravel().\n",
      "  clf.fit(X_train, y_train)\n"
     ]
    },
    {
     "name": "stdout",
     "output_type": "stream",
     "text": [
      "Saving model...\n",
      "Testing model...\n",
      "Accuracy: 1.000\n",
      "Classification report for classifier RandomForestClassifier():\n",
      "              precision    recall  f1-score   support\n",
      "\n",
      "           0       1.00      1.00      1.00       708\n",
      "           1       1.00      1.00      1.00       690\n",
      "           2       1.00      1.00      1.00       695\n",
      "           3       1.00      1.00      1.00       681\n",
      "           4       1.00      1.00      1.00       733\n",
      "           5       1.00      1.00      1.00       690\n",
      "           6       1.00      1.00      1.00       693\n",
      "           7       1.00      1.00      1.00       722\n",
      "           8       1.00      1.00      1.00       690\n",
      "           9       1.00      1.00      1.00       698\n",
      "\n",
      "    accuracy                           1.00      7000\n",
      "   macro avg       1.00      1.00      1.00      7000\n",
      "weighted avg       1.00      1.00      1.00      7000\n",
      "\n",
      "\n",
      "Confusion matrix:\n",
      "[[707   1   0   0   0   0   0   0   0   0]\n",
      " [  0 690   0   0   0   0   0   0   0   0]\n",
      " [  0   0 695   0   0   0   0   0   0   0]\n",
      " [  0   0   0 681   0   0   0   0   0   0]\n",
      " [  0   0   0   0 733   0   0   0   0   0]\n",
      " [  0   0   0   0   2 688   0   0   0   0]\n",
      " [  0   0   0   0   0   0 693   0   0   0]\n",
      " [  0   0   0   0   0   0   0 722   0   0]\n",
      " [  0   0   0   0   0   0   0   0 690   0]\n",
      " [  0   0   0   0   0   0   0   0   0 698]]\n"
     ]
    },
    {
     "data": {
      "text/plain": "<Figure size 432x288 with 2 Axes>",
      "image/png": "[encoded data removed]"
     },
     "metadata": {
      "needs_background": "light"
     },
     "output_type": "display_data"
    }
   ],
   "source": [
    "from sklearn.svm import LinearSVC\n",
    "from sklearn.ensemble import RandomForestClassifier\n",
    "from sklearn.neighbors import KNeighborsClassifier\n",
    "from sklearn.metrics import accuracy_score\n",
    "import pickle\n",
    "\n",
    "\n",
    "def classify(data_type):\n",
    "    if data_type == \"complex\":\n",
    "        x_data = x_complex\n",
    "        y_data = y_complex\n",
    "        n_samples, n_x, n_y = x_data.shape\n",
    "        x_data = x_data.reshape((n_samples, -1))\n",
    "        x_data = x_data / 255\n",
    "\n",
    "        X_train, X_test, y_train, y_test = train_test_split(x_data, y_data, test_size=0.35, shuffle=True)\n",
    "\n",
    "    else:\n",
    "        X_train = X_train_simple\n",
    "        n_samples, n_x, n_y = X_train.shape\n",
    "        X_train = X_train.reshape((n_samples, -1))\n",
    "\n",
    "        y_train = y_train_simple\n",
    "\n",
    "        X_test = X_test_simple\n",
    "        n_samples, n_x, n_y = X_test.shape\n",
    "        X_test = X_test.reshape((n_samples, -1))\n",
    "\n",
    "        y_test = y_test_simple\n",
    "\n",
    "\n",
    "    # clf = svm.LinearSVC(dual=False)\n",
    "    # clf = KNeighborsClassifier(n_neighbors=4)\n",
    "    # clf = LinearSVC()\n",
    "    clf = RandomForestClassifier()\n",
    "\n",
    "\n",
    "    print(\"Fitting model...\")\n",
    "    clf.fit(X_train, y_train)\n",
    "\n",
    "    print(\"Saving model...\")\n",
    "    pickle.dump(clf, open(\"handmodel.model\", mode=\"wb\"))\n",
    "\n",
    "    print(\"Testing model...\")\n",
    "    predicted = clf.predict(X_test)\n",
    "\n",
    "    # evaluate predictions\n",
    "    acc = accuracy_score(y_test, predicted)\n",
    "    print('Accuracy: %.3f' % acc)\n",
    "\n",
    "    print(f\"Classification report for classifier {clf}:\\n\"\n",
    "          f\"{metrics.classification_report(y_test, predicted)}\\n\")\n",
    "\n",
    "    disp = metrics.ConfusionMatrixDisplay.from_predictions(y_test, predicted)\n",
    "    disp.figure_.suptitle(\"Confusion Matrix\")\n",
    "    print(f\"Confusion matrix:\\n{disp.confusion_matrix}\")\n",
    "\n",
    "    plt.show()\n",
    "\n",
    "classify(\"complex\")"
   ],
   "metadata": {
    "collapsed": false,
    "pycharm": {
     "name": "#%%\n"
    }
   }
  },
  {
   "cell_type": "markdown",
   "source": [
    "## Messing around with Neural Networks\n",
    "We tried some testing using neural networks below but it went unfinished."
   ],
   "metadata": {
    "collapsed": false
   }
  },
  {
   "cell_type": "code",
   "execution_count": null,
   "metadata": {
    "pycharm": {
     "name": "#%%\n"
    }
   },
   "outputs": [],
   "source": [
    "import torch.nn.functional as F\n",
    "\n",
    "class HandGestureNet(nn.Module):\n",
    "    def __init__(self):\n",
    "        super(HandGestureNet, self).__init__()\n",
    "        self.conv1 = nn.Conv2d(in_channels=3, out_channels=12, kernel_size=5, stride=1, padding=1)\n",
    "        self.bn1 = nn.BatchNorm2d(12)\n",
    "        self.conv2 = nn.Conv2d(in_channels=12, out_channels=12, kernel_size=5, stride=1, padding=1)\n",
    "        self.bn2 = nn.BatchNorm2d(12)\n",
    "        self.pool = nn.MaxPool2d(2,2)\n",
    "        self.conv4 = nn.Conv2d(in_channels=12, out_channels=24, kernel_size=5, stride=1, padding=1)\n",
    "        self.bn4 = nn.BatchNorm2d(24)\n",
    "        self.conv5 = nn.Conv2d(in_channels=24, out_channels=24, kernel_size=5, stride=1, padding=1)\n",
    "        self.bn5 = nn.BatchNorm2d(24)\n",
    "        self.fc1 = nn.Linear(24*10*10, 10)\n",
    "\n",
    "    def forward(self, input):\n",
    "        output = F.relu(self.bn1(self.conv1(input)))      \n",
    "        output = F.relu(self.bn2(self.conv2(output)))     \n",
    "        output = self.pool(output)                        \n",
    "        output = F.relu(self.bn4(self.conv4(output)))     \n",
    "        output = F.relu(self.bn5(self.conv5(output)))     \n",
    "        output = output.view(-1, 24*10*10)\n",
    "        output = self.fc1(output)\n",
    "\n",
    "        return output\n",
    "\n",
    "network = HandGestureNet()"
   ]
  }
 ],
 "metadata": {
  "interpreter": {
   "hash": "b3ba2566441a7c06988d0923437866b63cedc61552a5af99d1f4fb67d367b25f"
  },
  "kernelspec": {
   "display_name": "Python 3",
   "language": "python",
   "name": "python3"
  },
  "language_info": {
   "codemirror_mode": {
    "name": "ipython",
    "version": 3
   },
   "file_extension": ".py",
   "mimetype": "text/x-python",
   "name": "python",
   "nbconvert_exporter": "python",
   "pygments_lexer": "ipython3",
   "version": "3.8.8"
  }
 },
 "nbformat": 4,
 "nbformat_minor": 2
}